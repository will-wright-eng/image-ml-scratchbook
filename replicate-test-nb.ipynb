{
 "cells": [
  {
   "cell_type": "code",
   "execution_count": 28,
   "id": "34e0b14d-e8ac-4c8e-bf58-d72c926382f0",
   "metadata": {
    "tags": []
   },
   "outputs": [],
   "source": [
    "%reset -f\n",
    "\n",
    "from pprint import pprint\n",
    "from IPython.display import Image\n",
    "\n",
    "import replicate\n",
    "import requests\n",
    "\n",
    "def test_api_call():\n",
    "    return replicate.run(\n",
    "      model_version=\"stability-ai/stable-diffusion:27b93a2413e7f36cd83da926f3656280b2931564ff050bf9575f1fdf9bcd7478\",\n",
    "      input={\"prompt\": \"a 19th century portrait of a wombat gentleman\"}\n",
    "    )\n",
    "\n",
    "def run_replicate(**kwargs):\n",
    "    return replicate.run(**kwargs)\n",
    "\n",
    "def download_img(url):\n",
    "    filename = url.split('/')[-1]\n",
    "    response = requests.get(url)\n",
    "    pprint(dict(response.headers))\n",
    "\n",
    "    if response.headers['Content-Type'] == 'image/png':\n",
    "        with open(filename, 'wb') as f:\n",
    "            f.write(response.content)\n",
    "            print('Image downloaded successfully.')\n",
    "            Image(filename=filename)\n",
    "    else:\n",
    "        print('The URL does not contain a PNG image.')\n",
    "    pass"
   ]
  },
  {
   "cell_type": "code",
   "execution_count": 41,
   "id": "e20af132-9eb6-434e-81ad-39396d72e218",
   "metadata": {
    "tags": []
   },
   "outputs": [
    {
     "name": "stdout",
     "output_type": "stream",
     "text": [
      "['https://replicate.delivery/pbxt/df7lbHWjpx16UCoF6PiA7eoe1wVLrfQUAgglDh8Yd0781mKDB/out-0.png']\n"
     ]
    },
    {
     "data": {
      "text/html": [
       "<img src=\"https://replicate.delivery/pbxt/df7lbHWjpx16UCoF6PiA7eoe1wVLrfQUAgglDh8Yd0781mKDB/out-0.png\"/>"
      ],
      "text/plain": [
       "<IPython.core.display.Image object>"
      ]
     },
     "metadata": {},
     "output_type": "display_data"
    }
   ],
   "source": [
    "# prompt_str = \"a 19th century portrait of a wombat gentleman\"\n",
    "\n",
    "prompt_str = \"\"\"neuromancer scene of of future cyberpunk \n",
    "book character, jacked into computer, realistic, virtual, cyberspace, \n",
    "portrait, hacker\"\"\"\n",
    "\n",
    "replicate_inputs = {\n",
    "    \"model_version\":\"stability-ai/stable-diffusion:27b93a2413e7f36cd83da926f3656280b2931564ff050bf9575f1fdf9bcd7478\",\n",
    "    \"input\": {\"prompt\": prompt_str},\n",
    "}\n",
    "\n",
    "url_list = run_replicate(**replicate_inputs)\n",
    "print(url_list)\n",
    "url = url_list[0]\n",
    "display(Image(url=url))"
   ]
  },
  {
   "cell_type": "code",
   "execution_count": null,
   "id": "987b7dc3-03eb-448a-bdca-abaa60aa54d8",
   "metadata": {},
   "outputs": [],
   "source": []
  }
 ],
 "metadata": {
  "kernelspec": {
   "display_name": "Python 3 (ipykernel)",
   "language": "python",
   "name": "python3"
  },
  "language_info": {
   "codemirror_mode": {
    "name": "ipython",
    "version": 3
   },
   "file_extension": ".py",
   "mimetype": "text/x-python",
   "name": "python",
   "nbconvert_exporter": "python",
   "pygments_lexer": "ipython3",
   "version": "3.11.2"
  }
 },
 "nbformat": 4,
 "nbformat_minor": 5
}
